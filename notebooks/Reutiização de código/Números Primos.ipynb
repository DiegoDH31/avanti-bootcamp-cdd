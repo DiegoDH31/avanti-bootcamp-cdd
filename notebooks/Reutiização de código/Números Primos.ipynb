{
 "cells": [
  {
   "cell_type": "markdown",
   "id": "6ce929c6-7b09-4e81-8140-a560de018712",
   "metadata": {},
   "source": [
    "### Módulo contendo uma função que verifica se um número é primo "
   ]
  },
  {
   "cell_type": "code",
   "execution_count": null,
   "id": "c84a9348-8205-4bed-abd7-b4d8325f37c2",
   "metadata": {},
   "outputs": [],
   "source": [
    "def numero_primo(numero):\n",
    "    if numero <= 1:\n",
    "        return False\n",
    "    if numero <= 3:\n",
    "        return True\n",
    "    if numero % 2 == 0 or numero % 3 == 0:\n",
    "        return False\n",
    "\n",
    "    i = 5\n",
    "    while i * i <= numero:\n",
    "        if numero % i == 0 or numero % (i + 2) == 0:\n",
    "            return False\n",
    "        i += 6\n",
    "\n",
    "    return True\n",
    "\n",
    "\n",
    "from primes import numero_primo\n",
    "\n",
    "numero = int(input(\"Digite um número: \"))\n",
    "\n",
    "if numero_primo(numero):\n",
    "    print(f\"{numero} é primo.\")\n",
    "else:\n",
    "    print(f\"{numero} não é primo.\")\n",
    "\n"
   ]
  }
 ],
 "metadata": {
  "kernelspec": {
   "display_name": "Python 3 (ipykernel)",
   "language": "python",
   "name": "python3"
  },
  "language_info": {
   "codemirror_mode": {
    "name": "ipython",
    "version": 3
   },
   "file_extension": ".py",
   "mimetype": "text/x-python",
   "name": "python",
   "nbconvert_exporter": "python",
   "pygments_lexer": "ipython3",
   "version": "3.8.10"
  }
 },
 "nbformat": 4,
 "nbformat_minor": 5
}
