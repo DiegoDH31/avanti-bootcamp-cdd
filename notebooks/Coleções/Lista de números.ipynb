{
 "cells": [
  {
   "cell_type": "markdown",
   "id": "8abd5fa5-37b4-444c-9c2e-4bd5180b2b65",
   "metadata": {},
   "source": [
    "### Programa que mostra uma lista de números inteiros."
   ]
  },
  {
   "cell_type": "code",
   "execution_count": 8,
   "id": "0409a559-fd3a-4717-adad-da45d9cb3690",
   "metadata": {},
   "outputs": [
    {
     "name": "stdout",
     "output_type": "stream",
     "text": [
      "5\n",
      "10\n",
      "15\n",
      "20\n",
      "25\n"
     ]
    }
   ],
   "source": [
    "numeros = [5, 10, 15, 20, 25]\n",
    "\n",
    "for numero in numeros:\n",
    "    print(numero)"
   ]
  }
 ],
 "metadata": {
  "kernelspec": {
   "display_name": "Python 3 (ipykernel)",
   "language": "python",
   "name": "python3"
  },
  "language_info": {
   "codemirror_mode": {
    "name": "ipython",
    "version": 3
   },
   "file_extension": ".py",
   "mimetype": "text/x-python",
   "name": "python",
   "nbconvert_exporter": "python",
   "pygments_lexer": "ipython3",
   "version": "3.8.10"
  }
 },
 "nbformat": 4,
 "nbformat_minor": 5
}
