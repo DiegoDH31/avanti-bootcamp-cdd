{
 "cells": [
  {
   "cell_type": "markdown",
   "id": "71842b90-83ab-4826-bc89-d179529fa618",
   "metadata": {},
   "source": [
    "### Programa que calcula a área de um círculo, solicitando o raio. "
   ]
  },
  {
   "cell_type": "code",
   "execution_count": 1,
   "id": "fd7e969a-c75a-4125-b9ea-ce580d84c376",
   "metadata": {},
   "outputs": [
    {
     "name": "stdout",
     "output_type": "stream",
     "text": [
      "Informe o número do raio: \n"
     ]
    },
    {
     "name": "stdin",
     "output_type": "stream",
     "text": [
      " 5\n"
     ]
    },
    {
     "name": "stdout",
     "output_type": "stream",
     "text": [
      "A área é: 78.54\n"
     ]
    }
   ],
   "source": [
    "print(\"Informe o número do raio: \")\n",
    "raio = int(input())\n",
    "\n",
    "area = 3.1415 * (raio ** 2)\n",
    "\n",
    "if raio <= 0 :\n",
    "    \n",
    "    print(\"Informe um número válido!!\")\n",
    "    \n",
    "else:\n",
    "    print(f\"A área é: {area:.2f}\");"
   ]
  },
  {
   "cell_type": "code",
   "execution_count": null,
   "id": "4289750d-4b81-4b0b-bdb9-9c6e3f84f811",
   "metadata": {},
   "outputs": [],
   "source": []
  }
 ],
 "metadata": {
  "kernelspec": {
   "display_name": "Python 3 (ipykernel)",
   "language": "python",
   "name": "python3"
  },
  "language_info": {
   "codemirror_mode": {
    "name": "ipython",
    "version": 3
   },
   "file_extension": ".py",
   "mimetype": "text/x-python",
   "name": "python",
   "nbconvert_exporter": "python",
   "pygments_lexer": "ipython3",
   "version": "3.8.10"
  }
 },
 "nbformat": 4,
 "nbformat_minor": 5
}
