{
 "cells": [
  {
   "cell_type": "markdown",
   "id": "6ff8af91-7dc0-40f4-8462-2af88e1a54e7",
   "metadata": {},
   "source": [
    "### Programa que verifica se o animal informado pelo usuário está presente na tupla."
   ]
  },
  {
   "cell_type": "code",
   "execution_count": null,
   "id": "1a13cbdd-534c-43fe-95e0-ab35d82e5b32",
   "metadata": {},
   "outputs": [],
   "source": [
    "animais = ('Cachorro', 'Gato', 'Pássaro','Leão')\n",
    "pesquisa = input(\"Informe qual animal deseja pesquisar: \")\n",
    " \n",
    "if pesquisa in animais:\n",
    "    print(f'Animal encontrado: {pesquisa}')\n",
    "else:\n",
    "    print(\"Animal não encontrado\")"
   ]
  },
  {
   "cell_type": "code",
   "execution_count": null,
   "id": "e785bdb4-23e3-458e-af02-0f3a56287b8e",
   "metadata": {},
   "outputs": [],
   "source": []
  }
 ],
 "metadata": {
  "kernelspec": {
   "display_name": "Python 3 (ipykernel)",
   "language": "python",
   "name": "python3"
  },
  "language_info": {
   "codemirror_mode": {
    "name": "ipython",
    "version": 3
   },
   "file_extension": ".py",
   "mimetype": "text/x-python",
   "name": "python",
   "nbconvert_exporter": "python",
   "pygments_lexer": "ipython3",
   "version": "3.8.10"
  }
 },
 "nbformat": 4,
 "nbformat_minor": 5
}
