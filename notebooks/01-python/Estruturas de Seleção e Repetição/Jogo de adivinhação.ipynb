{
 "cells": [
  {
   "cell_type": "markdown",
   "id": "7c99307a-0865-492e-8baa-663d65f1d5c6",
   "metadata": {},
   "source": [
    "### Jogo de adivinhação"
   ]
  },
  {
   "cell_type": "code",
   "execution_count": null,
   "id": "1dcc9fe4-c5c3-4954-a073-b57f41a963fd",
   "metadata": {},
   "outputs": [],
   "source": [
    "import random\n",
    "\n",
    "print(\"Tente advinhar o número secreto entre 1 e 100: \")\n",
    "numero_secreto = random.randint(1, 100)\n",
    "\n",
    "palpite = int(input())\n",
    "\n",
    "while numero_secreto != palpite:\n",
    "    \n",
    "    if palpite < numero_secreto :\n",
    "        print(\"O número secreto é maior que o número informado, tente outra vez!!\")\n",
    "        \n",
    "    elif palpite > numero_secreto :\n",
    "        print(\"O número secreto é menor que o número informado, tente outra vez!!\")\n",
    "        \n",
    "    palpite = int(input())\n",
    "    \n",
    "print(\"Parabéns! Você acertou!!\")"
   ]
  }
 ],
 "metadata": {
  "kernelspec": {
   "display_name": "Python 3 (ipykernel)",
   "language": "python",
   "name": "python3"
  },
  "language_info": {
   "codemirror_mode": {
    "name": "ipython",
    "version": 3
   },
   "file_extension": ".py",
   "mimetype": "text/x-python",
   "name": "python",
   "nbconvert_exporter": "python",
   "pygments_lexer": "ipython3",
   "version": "3.8.10"
  }
 },
 "nbformat": 4,
 "nbformat_minor": 5
}
