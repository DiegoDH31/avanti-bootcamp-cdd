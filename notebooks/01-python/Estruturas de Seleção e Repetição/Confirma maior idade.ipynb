{
 "cells": [
  {
   "cell_type": "markdown",
   "id": "cfc9ca32-42bd-4480-b116-52721d5db442",
   "metadata": {},
   "source": [
    "### Programa que informa se o usuário e maior ou menor de idade"
   ]
  },
  {
   "cell_type": "code",
   "execution_count": null,
   "id": "0b30c67a-dfed-4e35-8ac4-0ca11fae981e",
   "metadata": {},
   "outputs": [],
   "source": [
    "print(\"Informe a sua idade: \")\n",
    "idade = int(input())\n",
    "\n",
    "\n",
    "if idade < 18:\n",
    "    print(\"Você é menor de idade!\")\n",
    "\n",
    "else:\n",
    "    print(\"Você é maior de idade!\")"
   ]
  }
 ],
 "metadata": {
  "kernelspec": {
   "display_name": "Python 3 (ipykernel)",
   "language": "python",
   "name": "python3"
  },
  "language_info": {
   "codemirror_mode": {
    "name": "ipython",
    "version": 3
   },
   "file_extension": ".py",
   "mimetype": "text/x-python",
   "name": "python",
   "nbconvert_exporter": "python",
   "pygments_lexer": "ipython3",
   "version": "3.8.10"
  }
 },
 "nbformat": 4,
 "nbformat_minor": 5
}
