{
 "cells": [
  {
   "cell_type": "markdown",
   "id": "3a9a4e6d-47f5-4ee6-a893-0012a21fda67",
   "metadata": {},
   "source": [
    "### Programa que imprime mensagem de saudação para o usuário."
   ]
  },
  {
   "cell_type": "code",
   "execution_count": null,
   "id": "4ee1d0d1-9038-430d-b535-09be0f6e9528",
   "metadata": {},
   "outputs": [],
   "source": [
    "def saudacao(nome):\n",
    "    print(f'Olá {nome}!! Seja muito bem-vindo!!!')\n",
    "\n",
    "nome = input(\"Informe o seu nome: \")\n",
    "saudacao(nome)"
   ]
  },
  {
   "cell_type": "code",
   "execution_count": null,
   "id": "30336f0d-41d0-407c-8477-e31f81d48dc8",
   "metadata": {},
   "outputs": [],
   "source": []
  }
 ],
 "metadata": {
  "kernelspec": {
   "display_name": "Python 3 (ipykernel)",
   "language": "python",
   "name": "python3"
  },
  "language_info": {
   "codemirror_mode": {
    "name": "ipython",
    "version": 3
   },
   "file_extension": ".py",
   "mimetype": "text/x-python",
   "name": "python",
   "nbconvert_exporter": "python",
   "pygments_lexer": "ipython3",
   "version": "3.8.10"
  }
 },
 "nbformat": 4,
 "nbformat_minor": 5
}
