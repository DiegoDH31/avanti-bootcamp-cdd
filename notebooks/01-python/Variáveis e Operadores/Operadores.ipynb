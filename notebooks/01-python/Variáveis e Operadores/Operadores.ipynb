{
 "cells": [
  {
   "cell_type": "markdown",
   "id": "d2a99afe-4a51-4917-95a0-89f1ff9768a1",
   "metadata": {},
   "source": [
    "### Programa que lê 2 números inteiros e realiza operações matemáticas de adição, subtração, multiplicação e divisão."
   ]
  },
  {
   "cell_type": "code",
   "execution_count": 1,
   "id": "2b21c7c5-61df-4f38-81e6-54f481975023",
   "metadata": {},
   "outputs": [
    {
     "name": "stdout",
     "output_type": "stream",
     "text": [
      "Informe o Primeiro Número: \n"
     ]
    },
    {
     "name": "stdin",
     "output_type": "stream",
     "text": [
      " 2\n"
     ]
    },
    {
     "name": "stdout",
     "output_type": "stream",
     "text": [
      "Informe o Segundo Número: \n"
     ]
    },
    {
     "name": "stdin",
     "output_type": "stream",
     "text": [
      " 2\n"
     ]
    },
    {
     "name": "stdout",
     "output_type": "stream",
     "text": [
      "Informe a operação desejada: \n"
     ]
    },
    {
     "name": "stdin",
     "output_type": "stream",
     "text": [
      " +\n"
     ]
    },
    {
     "name": "stdout",
     "output_type": "stream",
     "text": [
      "O resultado é: 4\n"
     ]
    }
   ],
   "source": [
    "print(\"Informe o Primeiro Número: \")\n",
    "numero1 = int(input())\n",
    "\n",
    "print(\"Informe o Segundo Número: \")\n",
    "numero2 = int(input())\n",
    "\n",
    "print(\"Informe a operação desejada: \")\n",
    "operacao = input()\n",
    "\n",
    "resultado = 0\n",
    "\n",
    "\n",
    "if (operacao == '+'):\n",
    "    \n",
    "    resultado = numero1 + numero2\n",
    "    print(f\"O resultado é: {resultado}\")\n",
    "    \n",
    "elif (operacao == '-'):\n",
    "    \n",
    "    resultado = numero1 - numero2\n",
    "    print(f\"O resultado é: {resultado}\")\n",
    "\n",
    "elif (operacao == '*'):\n",
    "    \n",
    "    resultado = numero1 * numero2\n",
    "    print(f\"O resultado é: {resultado}\")\n",
    "    \n",
    "else:\n",
    "    \n",
    "    resultado = numero1 / numero2\n",
    "    print(f\"O resultado é: {resultado}\")"
   ]
  },
  {
   "cell_type": "code",
   "execution_count": null,
   "id": "97aa28ad-ff19-4b78-a1c1-585b7277389e",
   "metadata": {},
   "outputs": [],
   "source": []
  }
 ],
 "metadata": {
  "kernelspec": {
   "display_name": "Python 3 (ipykernel)",
   "language": "python",
   "name": "python3"
  },
  "language_info": {
   "codemirror_mode": {
    "name": "ipython",
    "version": 3
   },
   "file_extension": ".py",
   "mimetype": "text/x-python",
   "name": "python",
   "nbconvert_exporter": "python",
   "pygments_lexer": "ipython3",
   "version": "3.8.10"
  }
 },
 "nbformat": 4,
 "nbformat_minor": 5
}
